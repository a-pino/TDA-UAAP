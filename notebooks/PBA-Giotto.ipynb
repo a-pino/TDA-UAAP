{
 "cells": [
  {
   "cell_type": "markdown",
   "id": "30c65b09-8f08-4bef-9e5e-40155220f7b7",
   "metadata": {},
   "source": [
    "# TDA Thesis"
   ]
  },
  {
   "cell_type": "markdown",
   "id": "9b85e0b0-7457-4454-9fc0-23def94e4394",
   "metadata": {},
   "source": [
    "### Import Libraries"
   ]
  },
  {
   "cell_type": "code",
   "execution_count": 1,
   "id": "a26eb1c8-b1a5-4cc6-93f3-ca198dd4755c",
   "metadata": {},
   "outputs": [],
   "source": [
    "# Data wrangling\n",
    "import numpy as np\n",
    "import pandas as pd  # Not a requirement of giotto-tda, but is compatible with the gtda.mapper module\n",
    "\n",
    "# Data viz\n",
    "from gtda.plotting import plot_point_cloud\n",
    "\n",
    "# TDA magic\n",
    "from gtda.mapper import (\n",
    "    CubicalCover,\n",
    "    make_mapper_pipeline,\n",
    "    Projection,\n",
    "    plot_static_mapper_graph,\n",
    "    plot_interactive_mapper_graph,\n",
    "    MapperInteractivePlotter\n",
    ")\n",
    "import matplotlib.pyplot as plt\n",
    "# ML tools\n",
    "from sklearn import datasets\n",
    "from sklearn.cluster import DBSCAN\n",
    "from sklearn.decomposition import PCA\n",
    "from sklearn.pipeline import Pipeline\n",
    "from sklearn.preprocessing import StandardScaler\n",
    "import sklearn as sk\n",
    "import pylab"
   ]
  },
  {
   "cell_type": "markdown",
   "id": "5fb119c1-d606-4fd3-8ca6-ae088f8fd6ca",
   "metadata": {},
   "source": [
    "### Import Datasets"
   ]
  },
  {
   "cell_type": "code",
   "execution_count": 5,
   "id": "768d27b6-2042-4199-a9e8-a81ada687c0f",
   "metadata": {},
   "outputs": [
    {
     "data": {
      "text/html": [
       "<div>\n",
       "<style scoped>\n",
       "    .dataframe tbody tr th:only-of-type {\n",
       "        vertical-align: middle;\n",
       "    }\n",
       "\n",
       "    .dataframe tbody tr th {\n",
       "        vertical-align: top;\n",
       "    }\n",
       "\n",
       "    .dataframe thead th {\n",
       "        text-align: right;\n",
       "    }\n",
       "</style>\n",
       "<table border=\"1\" class=\"dataframe\">\n",
       "  <thead>\n",
       "    <tr style=\"text-align: right;\">\n",
       "      <th></th>\n",
       "      <th>#</th>\n",
       "      <th>Player</th>\n",
       "      <th>Position</th>\n",
       "      <th>Team</th>\n",
       "      <th>GP</th>\n",
       "      <th>MPG</th>\n",
       "      <th>PPG</th>\n",
       "      <th>FGM</th>\n",
       "      <th>FGA</th>\n",
       "      <th>FG%</th>\n",
       "      <th>...</th>\n",
       "      <th>FTA</th>\n",
       "      <th>FT%</th>\n",
       "      <th>ORB</th>\n",
       "      <th>DRB</th>\n",
       "      <th>RPG</th>\n",
       "      <th>APG</th>\n",
       "      <th>SPG</th>\n",
       "      <th>BPG</th>\n",
       "      <th>TOV</th>\n",
       "      <th>PF</th>\n",
       "    </tr>\n",
       "  </thead>\n",
       "  <tbody>\n",
       "    <tr>\n",
       "      <th>0</th>\n",
       "      <td>1</td>\n",
       "      <td>Robert Bolick</td>\n",
       "      <td>PG</td>\n",
       "      <td>NPB</td>\n",
       "      <td>8</td>\n",
       "      <td>34.4</td>\n",
       "      <td>18.5</td>\n",
       "      <td>6.5</td>\n",
       "      <td>15.3</td>\n",
       "      <td>0.426</td>\n",
       "      <td>...</td>\n",
       "      <td>3.6</td>\n",
       "      <td>0.759</td>\n",
       "      <td>1.6</td>\n",
       "      <td>4.3</td>\n",
       "      <td>5.9</td>\n",
       "      <td>5.6</td>\n",
       "      <td>0.4</td>\n",
       "      <td>0.3</td>\n",
       "      <td>1.8</td>\n",
       "      <td>0.6</td>\n",
       "    </tr>\n",
       "    <tr>\n",
       "      <th>1</th>\n",
       "      <td>2</td>\n",
       "      <td>Kevin Alas</td>\n",
       "      <td>PG</td>\n",
       "      <td>NLEX</td>\n",
       "      <td>11</td>\n",
       "      <td>33.5</td>\n",
       "      <td>17.5</td>\n",
       "      <td>5.9</td>\n",
       "      <td>12.3</td>\n",
       "      <td>0.481</td>\n",
       "      <td>...</td>\n",
       "      <td>5.5</td>\n",
       "      <td>0.639</td>\n",
       "      <td>1.5</td>\n",
       "      <td>3.9</td>\n",
       "      <td>5.4</td>\n",
       "      <td>5.4</td>\n",
       "      <td>1.2</td>\n",
       "      <td>0.0</td>\n",
       "      <td>3.4</td>\n",
       "      <td>2.3</td>\n",
       "    </tr>\n",
       "    <tr>\n",
       "      <th>2</th>\n",
       "      <td>3</td>\n",
       "      <td>Jayson Castro William</td>\n",
       "      <td>PG</td>\n",
       "      <td>TNT</td>\n",
       "      <td>24</td>\n",
       "      <td>26.5</td>\n",
       "      <td>14.7</td>\n",
       "      <td>4.5</td>\n",
       "      <td>9.2</td>\n",
       "      <td>0.486</td>\n",
       "      <td>...</td>\n",
       "      <td>5.3</td>\n",
       "      <td>0.817</td>\n",
       "      <td>1.0</td>\n",
       "      <td>3.1</td>\n",
       "      <td>4.1</td>\n",
       "      <td>4.3</td>\n",
       "      <td>1.0</td>\n",
       "      <td>0.2</td>\n",
       "      <td>2.0</td>\n",
       "      <td>2.0</td>\n",
       "    </tr>\n",
       "    <tr>\n",
       "      <th>3</th>\n",
       "      <td>4</td>\n",
       "      <td>Aaron Black</td>\n",
       "      <td>PG</td>\n",
       "      <td>MER</td>\n",
       "      <td>20</td>\n",
       "      <td>32.6</td>\n",
       "      <td>14.6</td>\n",
       "      <td>5.6</td>\n",
       "      <td>12.6</td>\n",
       "      <td>0.440</td>\n",
       "      <td>...</td>\n",
       "      <td>2.8</td>\n",
       "      <td>0.625</td>\n",
       "      <td>0.8</td>\n",
       "      <td>4.4</td>\n",
       "      <td>5.2</td>\n",
       "      <td>4.4</td>\n",
       "      <td>0.3</td>\n",
       "      <td>0.1</td>\n",
       "      <td>2.0</td>\n",
       "      <td>1.8</td>\n",
       "    </tr>\n",
       "    <tr>\n",
       "      <th>4</th>\n",
       "      <td>5</td>\n",
       "      <td>Roi Sumang</td>\n",
       "      <td>PG</td>\n",
       "      <td>NPB</td>\n",
       "      <td>11</td>\n",
       "      <td>31.7</td>\n",
       "      <td>13.5</td>\n",
       "      <td>5.1</td>\n",
       "      <td>10.5</td>\n",
       "      <td>0.487</td>\n",
       "      <td>...</td>\n",
       "      <td>1.1</td>\n",
       "      <td>1.000</td>\n",
       "      <td>0.9</td>\n",
       "      <td>3.4</td>\n",
       "      <td>4.3</td>\n",
       "      <td>6.5</td>\n",
       "      <td>1.4</td>\n",
       "      <td>0.0</td>\n",
       "      <td>2.3</td>\n",
       "      <td>2.2</td>\n",
       "    </tr>\n",
       "  </tbody>\n",
       "</table>\n",
       "<p>5 rows × 24 columns</p>\n",
       "</div>"
      ],
      "text/plain": [
       "   #                 Player Position  Team  GP   MPG   PPG  FGM   FGA    FG%  \\\n",
       "0  1          Robert Bolick       PG   NPB   8  34.4  18.5  6.5  15.3  0.426   \n",
       "1  2             Kevin Alas       PG  NLEX  11  33.5  17.5  5.9  12.3  0.481   \n",
       "2  3  Jayson Castro William       PG   TNT  24  26.5  14.7  4.5   9.2  0.486   \n",
       "3  4            Aaron Black       PG   MER  20  32.6  14.6  5.6  12.6  0.440   \n",
       "4  5             Roi Sumang       PG   NPB  11  31.7  13.5  5.1  10.5  0.487   \n",
       "\n",
       "   ...  FTA    FT%  ORB  DRB  RPG  APG  SPG  BPG  TOV   PF  \n",
       "0  ...  3.6  0.759  1.6  4.3  5.9  5.6  0.4  0.3  1.8  0.6  \n",
       "1  ...  5.5  0.639  1.5  3.9  5.4  5.4  1.2  0.0  3.4  2.3  \n",
       "2  ...  5.3  0.817  1.0  3.1  4.1  4.3  1.0  0.2  2.0  2.0  \n",
       "3  ...  2.8  0.625  0.8  4.4  5.2  4.4  0.3  0.1  2.0  1.8  \n",
       "4  ...  1.1  1.000  0.9  3.4  4.3  6.5  1.4  0.0  2.3  2.2  \n",
       "\n",
       "[5 rows x 24 columns]"
      ]
     },
     "execution_count": 5,
     "metadata": {},
     "output_type": "execute_result"
    }
   ],
   "source": [
    "pba_ph_2023 = pd.read_csv('../data/2022-2023-PBA-PH-Cup-2022-2023.csv')\n",
    "pba_ph_2023.rename(columns= {\"3:00 PM\": \"3 PM\"}, inplace= True)\n",
    "pba_ph_2023.head()"
   ]
  },
  {
   "cell_type": "code",
   "execution_count": 7,
   "id": "3fc5a0a0",
   "metadata": {},
   "outputs": [
    {
     "data": {
      "text/plain": [
       "137"
      ]
     },
     "execution_count": 7,
     "metadata": {},
     "output_type": "execute_result"
    }
   ],
   "source": [
    "len(pba_ph_2023)"
   ]
  },
  {
   "cell_type": "markdown",
   "id": "b47612f8-8dec-4342-a288-880ead818f47",
   "metadata": {},
   "source": [
    "## Mapper Algorithm"
   ]
  },
  {
   "cell_type": "markdown",
   "id": "9d7121d8-fca8-4779-bbb2-d0ea9aeeb637",
   "metadata": {},
   "source": [
    "### Preprocess the dataset"
   ]
  },
  {
   "cell_type": "code",
   "execution_count": 11,
   "id": "154c3a48-26a8-4c4a-b86e-68fde1cea4b9",
   "metadata": {},
   "outputs": [],
   "source": [
    "dicti = {'PG': 1, 'SG': 2, 'SF': 3, 'PF': 4, 'C': 5}\n",
    "azavedo_f = ['FGM', 'FGA', '3 PM', '3PA', 'FTM', 'FTA', 'ORB', 'DRB', 'RPG', 'APG', 'SPG', 'BPG'] #features suggested by azavedo\n",
    "\n",
    "def preprocess(dataset, features, dicti):\n",
    "    df_num_var = pba_ph_2023.select_dtypes(include=['number']).drop('#', axis=1)\n",
    "    df_final = df_num_var[features]\n",
    "    df_scaled = sk.preprocessing.scale(df_final)\n",
    "    pca = sk.decomposition.PCA(n_components=2, whiten=True)\n",
    "    df_transformed = pca.fit_transform(df_scaled)\n",
    "      \n",
    "    filterDim1 = pd.Series(df_transformed[:,0], name='Dim1')\n",
    "    filterDim2 = pd.Series(df_transformed[:,1], name='Dim2')\n",
    "    df_withFilter = pd.concat([filterDim1,filterDim2,df_final],axis=1)\n",
    "\n",
    "    invdict = {v: k for k, v in dicti.items()}\n",
    "    positions = list(pba_ph_2023['Position'])\n",
    "    position_labels = [dicti[x] for x in positions]\n",
    "    return df_transformed, position_labels, invdict, df_withFilter\n",
    "\n",
    "df_transformed, position_labels, invdict, df_withFilter = preprocess(pba_ph_2023, azavedo_f, dicti)\n",
    "\n"
   ]
  },
  {
   "cell_type": "code",
   "execution_count": 12,
   "id": "b7854441-6816-416d-90e2-5f21b5277bb9",
   "metadata": {},
   "outputs": [
    {
     "data": {
      "image/png": "[encoded data removed]",
      "text/plain": [
       "<Figure size 640x480 with 1 Axes>"
      ]
     },
     "metadata": {},
     "output_type": "display_data"
    }
   ],
   "source": [
    "def plot_pca_with_labels(df_transformed, position_labels, invdict):\n",
    "    plt.title(\"Performing PCA\\n Players taken into account based on their minutes in game\")\n",
    "    plt.xlabel(\"Dim 1\")\n",
    "    plt.ylabel(\"Dim 2\")\n",
    "\n",
    "    states = [invdict[x] for x in [1, 2, 3, 4, 5]]\n",
    "    for i, l in enumerate(states):\n",
    "        x = []\n",
    "        y = []\n",
    "        for j, _ in enumerate(df_transformed[:, 0]):\n",
    "            if position_labels[j] == i + 1:\n",
    "                x.append(df_transformed[j, 0])\n",
    "                y.append(df_transformed[j, 1])\n",
    "        plt.scatter(x, y, label=l)\n",
    "\n",
    "    plt.legend(loc='upper center', bbox_to_anchor=(1.05, .4), scatterpoints=1)\n",
    "    plt.show()\n",
    "    \n",
    "plot_pca_with_labels(df_transformed, position_labels, invdict)"
   ]
  },
  {
   "cell_type": "code",
   "execution_count": 13,
   "id": "96258efb-928a-48bf-b1e3-e67a543179a2",
   "metadata": {},
   "outputs": [],
   "source": [
    "# Define filter function – can be any scikit-learn transformer\n",
    "filter_func = PCA(n_components=2)\n",
    "# Define cover\n",
    "cover = CubicalCover(n_intervals=10, overlap_frac=0.3)\n",
    "# Choose clustering algorithm – default is DBSCAN\n",
    "clusterer = DBSCAN()\n",
    "\n",
    "# Configure parallelism of clustering step\n",
    "n_jobs = 1\n",
    "\n",
    "# Initialise pipeline\n",
    "pipe = make_mapper_pipeline(\n",
    "    filter_func=filter_func,\n",
    "    cover=cover,\n",
    "    clusterer=clusterer,\n",
    "    verbose=False,\n",
    "    n_jobs=n_jobs,\n",
    ")\n"
   ]
  },
  {
   "cell_type": "code",
   "execution_count": null,
   "id": "a1b26cb0-23cd-4974-bf08-3f4ccafa9e22",
   "metadata": {},
   "outputs": [
    {
     "data": {
      "application/vnd.jupyter.widget-view+json": {
       "model_id": "477a92bbd27246608448244c54d5a624",
       "version_major": 2,
       "version_minor": 0
      },
      "text/plain": [
       "VBox(children=(HBox(children=(VBox(children=(HTML(value='<b>Cover parameters</b>'), Text(value='uniform', cont…"
      ]
     },
     "execution_count": 14,
     "metadata": {},
     "output_type": "execute_result"
    }
   ],
   "source": [
    "color_data = pd.get_dummies(pba_ph_2023[\"Position\"], prefix=\"Position\")\n",
    "MIP = MapperInteractivePlotter(pipe, df_withFilter)\n",
    "# Generate interactive widget\n",
    "MIP.plot(color_data=color_data)"
   ]
  },
  {
   "cell_type": "code",
   "execution_count": 15,
   "id": "5053578e-3cbf-4094-ada1-5271acd39562",
   "metadata": {},
   "outputs": [
    {
     "data": {
      "text/html": [
       "<div>\n",
       "<style scoped>\n",
       "    .dataframe tbody tr th:only-of-type {\n",
       "        vertical-align: middle;\n",
       "    }\n",
       "\n",
       "    .dataframe tbody tr th {\n",
       "        vertical-align: top;\n",
       "    }\n",
       "\n",
       "    .dataframe thead th {\n",
       "        text-align: right;\n",
       "    }\n",
       "</style>\n",
       "<table border=\"1\" class=\"dataframe\">\n",
       "  <thead>\n",
       "    <tr style=\"text-align: right;\">\n",
       "      <th></th>\n",
       "      <th>#</th>\n",
       "      <th>Player</th>\n",
       "      <th>Position</th>\n",
       "      <th>Team</th>\n",
       "      <th>GP</th>\n",
       "      <th>MPG</th>\n",
       "      <th>PPG</th>\n",
       "      <th>FGM</th>\n",
       "      <th>FGA</th>\n",
       "      <th>FG%</th>\n",
       "      <th>...</th>\n",
       "      <th>FTA</th>\n",
       "      <th>FT%</th>\n",
       "      <th>ORB</th>\n",
       "      <th>DRB</th>\n",
       "      <th>RPG</th>\n",
       "      <th>APG</th>\n",
       "      <th>SPG</th>\n",
       "      <th>BPG</th>\n",
       "      <th>TOV</th>\n",
       "      <th>PF</th>\n",
       "    </tr>\n",
       "  </thead>\n",
       "  <tbody>\n",
       "    <tr>\n",
       "      <th>87</th>\n",
       "      <td>19</td>\n",
       "      <td>Larry Muyang</td>\n",
       "      <td>SF</td>\n",
       "      <td>FUEL</td>\n",
       "      <td>11</td>\n",
       "      <td>13.0</td>\n",
       "      <td>5.7</td>\n",
       "      <td>2.2</td>\n",
       "      <td>3.4</td>\n",
       "      <td>0.649</td>\n",
       "      <td>...</td>\n",
       "      <td>2.0</td>\n",
       "      <td>0.682</td>\n",
       "      <td>1.9</td>\n",
       "      <td>2.3</td>\n",
       "      <td>4.2</td>\n",
       "      <td>0.2</td>\n",
       "      <td>0.3</td>\n",
       "      <td>0.2</td>\n",
       "      <td>0.5</td>\n",
       "      <td>2.4</td>\n",
       "    </tr>\n",
       "  </tbody>\n",
       "</table>\n",
       "<p>1 rows × 24 columns</p>\n",
       "</div>"
      ],
      "text/plain": [
       "     #        Player Position  Team  GP   MPG  PPG  FGM  FGA    FG%  ...  FTA  \\\n",
       "87  19  Larry Muyang       SF  FUEL  11  13.0  5.7  2.2  3.4  0.649  ...  2.0   \n",
       "\n",
       "      FT%  ORB  DRB  RPG  APG  SPG  BPG  TOV   PF  \n",
       "87  0.682  1.9  2.3  4.2  0.2  0.3  0.2  0.5  2.4  \n",
       "\n",
       "[1 rows x 24 columns]"
      ]
     },
     "execution_count": 15,
     "metadata": {},
     "output_type": "execute_result"
    }
   ],
   "source": [
    "x = MIP.graph_.vs[45][\"node_elements\"]\n",
    "members = pba_ph_2023.iloc[x]\n",
    "members"
   ]
  },
  {
   "cell_type": "code",
   "execution_count": null,
   "id": "eaad33a4",
   "metadata": {},
   "outputs": [],
   "source": [
    "# TODO: combine all? with League coloring"
   ]
  },
  {
   "cell_type": "code",
   "execution_count": null,
   "id": "c8b0bdbc",
   "metadata": {},
   "outputs": [],
   "source": []
  },
  {
   "cell_type": "code",
   "execution_count": null,
   "id": "e56073d8",
   "metadata": {},
   "outputs": [],
   "source": []
  }
 ],
 "metadata": {
  "kernelspec": {
   "display_name": "Python 3 (ipykernel)",
   "language": "python",
   "name": "python3"
  },
  "language_info": {
   "codemirror_mode": {
    "name": "ipython",
    "version": 3
   },
   "file_extension": ".py",
   "mimetype": "text/x-python",
   "name": "python",
   "nbconvert_exporter": "python",
   "pygments_lexer": "ipython3",
   "version": "3.10.12"
  }
 },
 "nbformat": 4,
 "nbformat_minor": 5
}
